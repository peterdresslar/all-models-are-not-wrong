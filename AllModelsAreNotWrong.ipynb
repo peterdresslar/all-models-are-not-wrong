{
 "cells": [
  {
   "cell_type": "markdown",
   "metadata": {},
   "source": [
    "# All Models Are Not Wrong\n",
    "## Peter Dresslar, Arizona State University\n",
    "- CAS 520 Bergin\n",
    "- CAS 598 Damerow\n",
    "- CAS 598 Wei\n",
    "\n",
    "This week, with the start of two foundational Masters-level Complexity Sciences courses at Arizona State University, the same quotation was shared in each as the central basis of the week's discussion to open our exploration of complexity modeling.\n",
    "\n",
    "\"All models are wrong. Some are useful.\"[^1]\n",
    "\n",
    "While this famous saying from the statistician George Box is one of the more widely-known commentaries on modeling discipline, one might wonder if, speaking at least from a contemporary perspective, it is really the right place to start when embarking on an exploration in complexity science.\n",
    "\n",
    "- Before we further explore the quotation by Box, we might first read it in the context in which it was most recently published.\n",
    "\n",
    ">[Quote]\n",
    "\n",
    "- Clearly Box was just making a point about the difficulty of accurate representations of reality, and emphasizing the importance of certain lines of statistical work---some of which, we might observe, were precisely the kinds of work for which he was famous.\n",
    "\n",
    "- Many academics have commented on the quotation over the years, with at least a few of them finding it unhelpful or misleading.\n",
    "\n",
    ">[Quote]\n",
    "\n",
    "Now, fifty years after Box's first utterance of the saying, we are unquestionably living in a new regime of thinking, or, in some estimates, a regime of un-thinking. Readers will need little reminder of society's changing attitudes toward basic sciences and plain empiricism. \n",
    "\n",
    "And, whether or not Box's quotation is useful... it is certainly wrong.\n",
    "\n",
    "Let's demonstrate this.\n"
   ]
  },
  {
   "cell_type": "code",
   "execution_count": null,
   "metadata": {},
   "outputs": [
    {
     "name": "stdout",
     "output_type": "stream",
     "text": [
      "2032 is a leap year    "
     ]
    }
   ],
   "source": [
    "import datetime\n",
    "import time\n",
    "\n",
    "however_many_years = 9999999\n",
    "todays_year = datetime.datetime.now().year\n",
    "start_year = todays_year # or feel free to choose your own\n",
    "dt = 1  # years to step\n",
    "\n",
    "for year in range(start_year, start_year + however_many_years, dt):\n",
    "    if year % 4 == 0 and (year % 100 != 0 or year % 400 == 0):\n",
    "        print(f\"\\r{year} is a leap year    \", end=\"\", flush=True)\n",
    "    else:\n",
    "        print(f\"\\r{year} is not a leap year\", end=\"\", flush=True)\n",
    "    time.sleep(1)  #  Seconds. For human-utility purposes."
   ]
  },
  {
   "cell_type": "markdown",
   "metadata": {},
   "source": [
    "This model is completly discrete. It is a flawless reprentation of the Gregorian calendar, a real-world, everyday system used by billions of people. This model has faint but non-zero usefulness. \n",
    "\n",
    "And, this model is not wrong.\n",
    "\n",
    "Is a trivial model still a model? Uri Wilenski's models of neural networks from aroung the turn of the century are---in the most elegant sense---simple as can be. Yet they are very informative and, through the power of peer review, we can assert that they are not wrong."
   ]
  }
 ],
 "metadata": {
  "kernelspec": {
   "display_name": "Python 3",
   "language": "python",
   "name": "python3"
  },
  "language_info": {
   "codemirror_mode": {
    "name": "ipython",
    "version": 3
   },
   "file_extension": ".py",
   "mimetype": "text/x-python",
   "name": "python",
   "nbconvert_exporter": "python",
   "pygments_lexer": "ipython3",
   "version": "3.12.8"
  }
 },
 "nbformat": 4,
 "nbformat_minor": 2
}
